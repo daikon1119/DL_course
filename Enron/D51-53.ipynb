{
 "cells": [
  {
   "cell_type": "code",
   "execution_count": 507,
   "metadata": {
    "scrolled": true
   },
   "outputs": [
    {
     "data": {
      "text/plain": [
       "(113, 22)"
      ]
     },
     "execution_count": 507,
     "metadata": {},
     "output_type": "execute_result"
    }
   ],
   "source": [
    "import pandas as pd\n",
    "import numpy as np\n",
    "import copy, time\n",
    "import warnings\n",
    "warnings.filterwarnings('ignore')\n",
    "from sklearn import datasets, metrics\n",
    "from IPython.display import display\n",
    "from sklearn.preprocessing import MinMaxScaler, StandardScaler, LabelEncoder, OneHotEncoder\n",
    "from sklearn.model_selection import cross_val_score, GridSearchCV, RandomizedSearchCV, train_test_split\n",
    "from sklearn.linear_model import LogisticRegression, LinearRegression\n",
    "from sklearn.ensemble import GradientBoostingClassifier, RandomForestClassifier\n",
    "from sklearn.tree import DecisionTreeClassifier, DecisionTreeRegressor\n",
    "from collections import defaultdict\n",
    "from scipy.stats import pearsonr\n",
    "from numpy.random import seed, randn\n",
    "from numpy import percentile\n",
    "\n",
    "df_train = pd.read_csv('train_data.csv')\n",
    "df_test = pd.read_csv('test_features.csv')\n",
    "df_train.shape\n"
   ]
  },
  {
   "cell_type": "code",
   "execution_count": 429,
   "metadata": {},
   "outputs": [],
   "source": [
    "df_train['poi'] = df_train['poi'].astype(int)\n",
    "train_Y = df_train['poi']\n",
    "train_num = train_Y.shape[0]\n",
    "\n",
    "names = df_test['name']\n",
    "df_train = df_train.drop(['name', 'poi'] , axis=1)\n",
    "df_test = df_test.drop(['name'], axis=1)\n"
   ]
  },
  {
   "cell_type": "code",
   "execution_count": 430,
   "metadata": {},
   "outputs": [],
   "source": [
    "#只取 int64, float64 兩種數值型欄位, 存於 num_features 中\n",
    "num_features = []\n",
    "def getUsefulData(df):\n",
    "    \n",
    "    for dtype, feature in zip(df.dtypes, df.columns):\n",
    "        if dtype == 'float64' or dtype == 'int64':\n",
    "            num_features.append(feature)\n",
    "    #print(f'{len(num_features)} Numeric Features : {num_features}\\n')\n",
    "    df = df[num_features]\n",
    "    return df\n",
    "\n",
    "df_train = getUsefulData(df_train)\n",
    "df_test = df_test[num_features]\n"
   ]
  },
  {
   "cell_type": "code",
   "execution_count": 431,
   "metadata": {},
   "outputs": [],
   "source": [
    "#'salary', 'other'，空值用平均值，其餘空值補0\n",
    "def fillEmpty(df):\n",
    "    for feature in num_features:  \n",
    "        mid = np.median(df[~df[feature].isnull()][feature])\n",
    "        if feature=='salary' or feature=='other':\n",
    "            df[feature] = df[feature].fillna(df[feature].median())\n",
    "        else:\n",
    "            df[feature] = df[feature].fillna(0)\n",
    "    return df\n",
    "    \n",
    "df_train = fillEmpty(df_train)\n",
    "df_test = fillEmpty(df_test)\n"
   ]
  },
  {
   "cell_type": "code",
   "execution_count": 432,
   "metadata": {
    "scrolled": true
   },
   "outputs": [],
   "source": [
    "#outliner移除\n",
    "from numpy.random import seed\n",
    "from numpy.random import randn\n",
    "from numpy import mean\n",
    "from numpy import std\n",
    "#outliers_index=[]        \n",
    "#outliner_features = ['from_messages', 'from_poi_to_this_person', 'loan_advances',\n",
    "#                     'other', 'total_payments', 'total_stock_value']\n",
    "for feature in num_features:\n",
    "    feature_data = list(df_train[feature])\n",
    "    data_mean, data_std = mean(feature_data), std(feature_data)\n",
    "    cut_off = data_std * 3\n",
    "    lower, upper = data_mean - cut_off, data_mean + cut_off\n",
    "    outliers = [x for x in feature_data if x < lower or x > upper]\n",
    " \n",
    "    #用中位數取代\n",
    "    '''\n",
    "    mid = np.median(df_train[~df_train[feature].isnull()][feature])\n",
    "    for outlier in outliers:\n",
    "        df_train[feature].replace({outlier: mid}, inplace = True)\n",
    "    '''\n",
    "\n",
    "    keep_indexs = (df_train[feature]> lower) & (df_train[feature]< upper)\n",
    "    df_train = df_train[keep_indexs]\n",
    "    train_Y = train_Y[keep_indexs]\n",
    "    \n",
    "    '''\n",
    "    print (feature)\n",
    "    print('Identified outliers: %d' % len(outliers))\n",
    "    print (\"outliers: \" .format(),  outliers)\n",
    "    print (\"\\n\")\n",
    "    '''\n"
   ]
  },
  {
   "cell_type": "code",
   "execution_count": 433,
   "metadata": {},
   "outputs": [
    {
     "data": {
      "text/plain": [
       "'\\ndef min_max_normalize(x):\\n    x = (( (x - min(x)) / ( max(x) - min(x) ) ) - 0.5) * 2\\n    return x\\n\\ndef standard_normalize(x):\\n    x = ( (x - min(x)) / ( max(x) - min(x) ) )\\n    return x\\n\\ndef z_transform(x):\\n    x = ( (x - np.mean(x)) / (np.std(x)) )\\n    return x\\n\\nfor feature in df_train.columns: \\n    df_train[feature] = standard_normalize(df_train[feature])\\n    \\nfor feature in df_test.columns: \\n    df_test[feature] = standard_normalize(df_test[feature])\\n'"
      ]
     },
     "execution_count": 433,
     "metadata": {},
     "output_type": "execute_result"
    }
   ],
   "source": [
    "#標準化\n",
    "#scaler = StandardScaler()                                               #z_transform\n",
    "scaler = MinMaxScaler() \n",
    "scaler.fit(df_train)\n",
    "\n",
    "df_train = pd.DataFrame(data=scaler.transform(df_train), columns=df_train.columns, index=df_train.index)\n",
    "df_test = pd.DataFrame(data=scaler.transform(df_test), columns=df_test.columns, index=df_test.index)\n",
    "\n",
    "\n",
    "\n",
    "'''\n",
    "def min_max_normalize(x):\n",
    "    x = (( (x - min(x)) / ( max(x) - min(x) ) ) - 0.5) * 2\n",
    "    return x\n",
    "\n",
    "def standard_normalize(x):\n",
    "    x = ( (x - min(x)) / ( max(x) - min(x) ) )\n",
    "    return x\n",
    "\n",
    "def z_transform(x):\n",
    "    x = ( (x - np.mean(x)) / (np.std(x)) )\n",
    "    return x\n",
    "\n",
    "for feature in df_train.columns: \n",
    "    df_train[feature] = standard_normalize(df_train[feature])\n",
    "    \n",
    "for feature in df_test.columns: \n",
    "    df_test[feature] = standard_normalize(df_test[feature])\n",
    "'''\n"
   ]
  },
  {
   "cell_type": "code",
   "execution_count": 434,
   "metadata": {},
   "outputs": [],
   "source": [
    "#新增欄位\n",
    "def addFeatures(df):   \n",
    "    #deferral_payments: 終止僱傭遞延補償\n",
    "    #deferred_income: 非僱員董事在遞延薪酬安排下遞延的薪酬\n",
    "    #df['deferred_loss'] = df['deferral_payments'] - df['deferred_income']\n",
    "    \n",
    "    #expenses: 業務費用的報銷\n",
    "    #director_fees: 現金支付和/或股票授予的價值，以代替向非僱員董事支付的現金。\n",
    "    #df['director_fees+expenses'] = df['director_fees'] + df['expenses']\n",
    "    \n",
    "    #restricted_stock_deferred: \n",
    "    #df['director_fees+restricted_stock_deferred'] = df['director_fees'] + df['restricted_stock_deferred']\n",
    "    \n",
    "    df[\"total_payments\"] = df[\"salary\"] + df[\"bonus\"] + df[\"long_term_incentive\"] + \\\n",
    "                           df[\"deferred_income\"] + df[\"deferral_payments\"] + df[\"loan_advances\"] + \\\n",
    "                           df[\"other\"] + df[\"expenses\"] + df[\"director_fees\"]\n",
    "        \n",
    "    df[\"total_stock_value\"] = df[\"exercised_stock_options\"] + df[\"restricted_stock\"] + \\\n",
    "                              df[\"restricted_stock_deferred\"]        \n",
    "    return df\n",
    "\n",
    "df_train = addFeatures(df_train)\n",
    "df_test = addFeatures(df_test)\n",
    "num_features.append('total_payments')\n",
    "num_features.append('total_stock_value')\n",
    "\n",
    "#df_train['incentive_ontime'] = df_train['deferred_income'] - df_train['long_term_incentive']\n",
    "#df_train['loss'] = df_train['total_payments'] - df_train['bonus']\n"
   ]
  },
  {
   "cell_type": "code",
   "execution_count": 497,
   "metadata": {},
   "outputs": [
    {
     "data": {
      "text/html": [
       "<div>\n",
       "<style scoped>\n",
       "    .dataframe tbody tr th:only-of-type {\n",
       "        vertical-align: middle;\n",
       "    }\n",
       "\n",
       "    .dataframe tbody tr th {\n",
       "        vertical-align: top;\n",
       "    }\n",
       "\n",
       "    .dataframe thead th {\n",
       "        text-align: right;\n",
       "    }\n",
       "</style>\n",
       "<table border=\"1\" class=\"dataframe\">\n",
       "  <thead>\n",
       "    <tr style=\"text-align: right;\">\n",
       "      <th></th>\n",
       "      <th>bonus</th>\n",
       "      <th>deferral_payments</th>\n",
       "      <th>deferred_income</th>\n",
       "      <th>director_fees</th>\n",
       "      <th>exercised_stock_options</th>\n",
       "      <th>expenses</th>\n",
       "      <th>from_messages</th>\n",
       "      <th>from_poi_to_this_person</th>\n",
       "      <th>from_this_person_to_poi</th>\n",
       "      <th>loan_advances</th>\n",
       "      <th>long_term_incentive</th>\n",
       "      <th>other</th>\n",
       "      <th>restricted_stock</th>\n",
       "      <th>restricted_stock_deferred</th>\n",
       "      <th>salary</th>\n",
       "      <th>shared_receipt_with_poi</th>\n",
       "      <th>to_messages</th>\n",
       "      <th>total_payments</th>\n",
       "      <th>total_stock_value</th>\n",
       "    </tr>\n",
       "  </thead>\n",
       "  <tbody>\n",
       "    <tr>\n",
       "      <th>11</th>\n",
       "      <td>0.560</td>\n",
       "      <td>0.339664</td>\n",
       "      <td>0.828569</td>\n",
       "      <td>0.000000</td>\n",
       "      <td>0.199620</td>\n",
       "      <td>0.261941</td>\n",
       "      <td>0.077286</td>\n",
       "      <td>0.171569</td>\n",
       "      <td>0.979592</td>\n",
       "      <td>0.0</td>\n",
       "      <td>0.000000</td>\n",
       "      <td>0.002147</td>\n",
       "      <td>0.127925</td>\n",
       "      <td>0.777059</td>\n",
       "      <td>0.632210</td>\n",
       "      <td>0.470808</td>\n",
       "      <td>0.423469</td>\n",
       "      <td>2.624531</td>\n",
       "      <td>1.104605</td>\n",
       "    </tr>\n",
       "    <tr>\n",
       "      <th>100</th>\n",
       "      <td>0.000</td>\n",
       "      <td>0.109767</td>\n",
       "      <td>1.000000</td>\n",
       "      <td>1.000000</td>\n",
       "      <td>0.000000</td>\n",
       "      <td>0.817001</td>\n",
       "      <td>0.000000</td>\n",
       "      <td>0.000000</td>\n",
       "      <td>0.000000</td>\n",
       "      <td>0.0</td>\n",
       "      <td>0.000000</td>\n",
       "      <td>0.057719</td>\n",
       "      <td>0.000000</td>\n",
       "      <td>0.777059</td>\n",
       "      <td>0.640572</td>\n",
       "      <td>0.000000</td>\n",
       "      <td>0.000000</td>\n",
       "      <td>3.625059</td>\n",
       "      <td>0.777059</td>\n",
       "    </tr>\n",
       "    <tr>\n",
       "      <th>28</th>\n",
       "      <td>0.056</td>\n",
       "      <td>0.109767</td>\n",
       "      <td>1.000000</td>\n",
       "      <td>0.000000</td>\n",
       "      <td>0.000000</td>\n",
       "      <td>0.221734</td>\n",
       "      <td>0.013195</td>\n",
       "      <td>0.049020</td>\n",
       "      <td>0.061224</td>\n",
       "      <td>0.0</td>\n",
       "      <td>0.000000</td>\n",
       "      <td>0.000851</td>\n",
       "      <td>0.000000</td>\n",
       "      <td>0.777059</td>\n",
       "      <td>0.536085</td>\n",
       "      <td>0.042665</td>\n",
       "      <td>0.056122</td>\n",
       "      <td>1.924437</td>\n",
       "      <td>0.777059</td>\n",
       "    </tr>\n",
       "    <tr>\n",
       "      <th>3</th>\n",
       "      <td>0.640</td>\n",
       "      <td>0.109767</td>\n",
       "      <td>1.000000</td>\n",
       "      <td>0.000000</td>\n",
       "      <td>0.000000</td>\n",
       "      <td>0.930064</td>\n",
       "      <td>0.000000</td>\n",
       "      <td>0.000000</td>\n",
       "      <td>0.000000</td>\n",
       "      <td>0.0</td>\n",
       "      <td>0.434389</td>\n",
       "      <td>1.000000</td>\n",
       "      <td>0.444249</td>\n",
       "      <td>0.777059</td>\n",
       "      <td>0.547342</td>\n",
       "      <td>0.000000</td>\n",
       "      <td>0.000000</td>\n",
       "      <td>4.661562</td>\n",
       "      <td>1.221308</td>\n",
       "    </tr>\n",
       "    <tr>\n",
       "      <th>45</th>\n",
       "      <td>0.280</td>\n",
       "      <td>0.109767</td>\n",
       "      <td>0.313026</td>\n",
       "      <td>0.000000</td>\n",
       "      <td>0.596984</td>\n",
       "      <td>0.618437</td>\n",
       "      <td>0.000000</td>\n",
       "      <td>0.000000</td>\n",
       "      <td>0.000000</td>\n",
       "      <td>0.0</td>\n",
       "      <td>0.000000</td>\n",
       "      <td>0.014280</td>\n",
       "      <td>0.806563</td>\n",
       "      <td>0.777059</td>\n",
       "      <td>0.365427</td>\n",
       "      <td>0.000000</td>\n",
       "      <td>0.000000</td>\n",
       "      <td>1.700937</td>\n",
       "      <td>2.180606</td>\n",
       "    </tr>\n",
       "    <tr>\n",
       "      <th>82</th>\n",
       "      <td>0.000</td>\n",
       "      <td>0.109767</td>\n",
       "      <td>1.000000</td>\n",
       "      <td>0.000000</td>\n",
       "      <td>0.092162</td>\n",
       "      <td>0.000000</td>\n",
       "      <td>0.032045</td>\n",
       "      <td>0.171569</td>\n",
       "      <td>0.102041</td>\n",
       "      <td>0.0</td>\n",
       "      <td>0.000000</td>\n",
       "      <td>0.057719</td>\n",
       "      <td>0.163906</td>\n",
       "      <td>0.777059</td>\n",
       "      <td>0.640572</td>\n",
       "      <td>0.220434</td>\n",
       "      <td>0.229273</td>\n",
       "      <td>1.808058</td>\n",
       "      <td>1.033127</td>\n",
       "    </tr>\n",
       "    <tr>\n",
       "      <th>19</th>\n",
       "      <td>0.800</td>\n",
       "      <td>0.109767</td>\n",
       "      <td>1.000000</td>\n",
       "      <td>0.000000</td>\n",
       "      <td>0.000000</td>\n",
       "      <td>0.000000</td>\n",
       "      <td>0.059378</td>\n",
       "      <td>0.328431</td>\n",
       "      <td>0.285714</td>\n",
       "      <td>0.0</td>\n",
       "      <td>1.000000</td>\n",
       "      <td>0.003395</td>\n",
       "      <td>0.162598</td>\n",
       "      <td>0.777059</td>\n",
       "      <td>0.715883</td>\n",
       "      <td>1.000000</td>\n",
       "      <td>0.899872</td>\n",
       "      <td>3.629044</td>\n",
       "      <td>0.939657</td>\n",
       "    </tr>\n",
       "    <tr>\n",
       "      <th>55</th>\n",
       "      <td>0.000</td>\n",
       "      <td>0.109767</td>\n",
       "      <td>1.000000</td>\n",
       "      <td>0.000000</td>\n",
       "      <td>0.198296</td>\n",
       "      <td>0.093625</td>\n",
       "      <td>0.000000</td>\n",
       "      <td>0.000000</td>\n",
       "      <td>0.000000</td>\n",
       "      <td>0.0</td>\n",
       "      <td>0.000000</td>\n",
       "      <td>0.057719</td>\n",
       "      <td>0.392017</td>\n",
       "      <td>0.777059</td>\n",
       "      <td>0.521014</td>\n",
       "      <td>0.000000</td>\n",
       "      <td>0.000000</td>\n",
       "      <td>1.782125</td>\n",
       "      <td>1.367373</td>\n",
       "    </tr>\n",
       "    <tr>\n",
       "      <th>21</th>\n",
       "      <td>0.000</td>\n",
       "      <td>0.109767</td>\n",
       "      <td>1.000000</td>\n",
       "      <td>0.000000</td>\n",
       "      <td>0.642912</td>\n",
       "      <td>0.148279</td>\n",
       "      <td>0.000000</td>\n",
       "      <td>0.000000</td>\n",
       "      <td>0.000000</td>\n",
       "      <td>0.0</td>\n",
       "      <td>0.097907</td>\n",
       "      <td>0.000192</td>\n",
       "      <td>0.920497</td>\n",
       "      <td>0.777059</td>\n",
       "      <td>0.106348</td>\n",
       "      <td>0.000000</td>\n",
       "      <td>0.000000</td>\n",
       "      <td>1.462493</td>\n",
       "      <td>2.340468</td>\n",
       "    </tr>\n",
       "    <tr>\n",
       "      <th>89</th>\n",
       "      <td>0.280</td>\n",
       "      <td>0.109767</td>\n",
       "      <td>1.000000</td>\n",
       "      <td>0.000000</td>\n",
       "      <td>0.081113</td>\n",
       "      <td>0.187928</td>\n",
       "      <td>0.015080</td>\n",
       "      <td>0.004902</td>\n",
       "      <td>0.163265</td>\n",
       "      <td>0.0</td>\n",
       "      <td>0.401050</td>\n",
       "      <td>0.314504</td>\n",
       "      <td>0.431505</td>\n",
       "      <td>0.777059</td>\n",
       "      <td>0.461614</td>\n",
       "      <td>0.270584</td>\n",
       "      <td>0.298469</td>\n",
       "      <td>2.754861</td>\n",
       "      <td>1.289677</td>\n",
       "    </tr>\n",
       "    <tr>\n",
       "      <th>76</th>\n",
       "      <td>0.000</td>\n",
       "      <td>0.163944</td>\n",
       "      <td>1.000000</td>\n",
       "      <td>0.000000</td>\n",
       "      <td>0.021531</td>\n",
       "      <td>0.000000</td>\n",
       "      <td>0.000000</td>\n",
       "      <td>0.000000</td>\n",
       "      <td>0.000000</td>\n",
       "      <td>0.0</td>\n",
       "      <td>0.000000</td>\n",
       "      <td>0.057719</td>\n",
       "      <td>0.000000</td>\n",
       "      <td>0.777059</td>\n",
       "      <td>0.640572</td>\n",
       "      <td>0.000000</td>\n",
       "      <td>0.000000</td>\n",
       "      <td>1.862236</td>\n",
       "      <td>0.798590</td>\n",
       "    </tr>\n",
       "    <tr>\n",
       "      <th>51</th>\n",
       "      <td>0.680</td>\n",
       "      <td>0.109767</td>\n",
       "      <td>1.000000</td>\n",
       "      <td>0.000000</td>\n",
       "      <td>0.077669</td>\n",
       "      <td>0.381091</td>\n",
       "      <td>0.041470</td>\n",
       "      <td>0.049020</td>\n",
       "      <td>0.551020</td>\n",
       "      <td>0.0</td>\n",
       "      <td>0.270509</td>\n",
       "      <td>0.067010</td>\n",
       "      <td>0.117218</td>\n",
       "      <td>0.777059</td>\n",
       "      <td>0.573389</td>\n",
       "      <td>0.066617</td>\n",
       "      <td>0.066645</td>\n",
       "      <td>3.081766</td>\n",
       "      <td>0.971946</td>\n",
       "    </tr>\n",
       "    <tr>\n",
       "      <th>18</th>\n",
       "      <td>0.260</td>\n",
       "      <td>0.109767</td>\n",
       "      <td>1.000000</td>\n",
       "      <td>0.000000</td>\n",
       "      <td>0.000000</td>\n",
       "      <td>0.175913</td>\n",
       "      <td>0.000000</td>\n",
       "      <td>0.000000</td>\n",
       "      <td>0.000000</td>\n",
       "      <td>0.0</td>\n",
       "      <td>0.198213</td>\n",
       "      <td>0.000783</td>\n",
       "      <td>0.093781</td>\n",
       "      <td>0.777059</td>\n",
       "      <td>0.413009</td>\n",
       "      <td>0.000000</td>\n",
       "      <td>0.000000</td>\n",
       "      <td>2.157685</td>\n",
       "      <td>0.870840</td>\n",
       "    </tr>\n",
       "    <tr>\n",
       "      <th>73</th>\n",
       "      <td>0.000</td>\n",
       "      <td>0.109767</td>\n",
       "      <td>0.957142</td>\n",
       "      <td>0.993422</td>\n",
       "      <td>0.000000</td>\n",
       "      <td>0.011124</td>\n",
       "      <td>0.000000</td>\n",
       "      <td>0.000000</td>\n",
       "      <td>0.000000</td>\n",
       "      <td>0.0</td>\n",
       "      <td>0.000000</td>\n",
       "      <td>0.057719</td>\n",
       "      <td>0.000000</td>\n",
       "      <td>0.777059</td>\n",
       "      <td>0.640572</td>\n",
       "      <td>0.000000</td>\n",
       "      <td>0.000000</td>\n",
       "      <td>2.769746</td>\n",
       "      <td>0.777059</td>\n",
       "    </tr>\n",
       "    <tr>\n",
       "      <th>13</th>\n",
       "      <td>0.600</td>\n",
       "      <td>0.109767</td>\n",
       "      <td>1.000000</td>\n",
       "      <td>0.000000</td>\n",
       "      <td>0.053287</td>\n",
       "      <td>0.000000</td>\n",
       "      <td>0.000000</td>\n",
       "      <td>0.000000</td>\n",
       "      <td>0.000000</td>\n",
       "      <td>0.0</td>\n",
       "      <td>0.219695</td>\n",
       "      <td>0.902794</td>\n",
       "      <td>0.198934</td>\n",
       "      <td>0.777059</td>\n",
       "      <td>0.712930</td>\n",
       "      <td>0.000000</td>\n",
       "      <td>0.000000</td>\n",
       "      <td>3.545187</td>\n",
       "      <td>1.029280</td>\n",
       "    </tr>\n",
       "    <tr>\n",
       "      <th>34</th>\n",
       "      <td>0.480</td>\n",
       "      <td>0.109767</td>\n",
       "      <td>1.000000</td>\n",
       "      <td>0.000000</td>\n",
       "      <td>0.002121</td>\n",
       "      <td>0.327720</td>\n",
       "      <td>0.069746</td>\n",
       "      <td>0.563725</td>\n",
       "      <td>0.081633</td>\n",
       "      <td>0.0</td>\n",
       "      <td>0.241711</td>\n",
       "      <td>0.028155</td>\n",
       "      <td>0.063967</td>\n",
       "      <td>0.777059</td>\n",
       "      <td>0.485354</td>\n",
       "      <td>0.206587</td>\n",
       "      <td>0.227679</td>\n",
       "      <td>2.672706</td>\n",
       "      <td>0.843147</td>\n",
       "    </tr>\n",
       "    <tr>\n",
       "      <th>91</th>\n",
       "      <td>0.631</td>\n",
       "      <td>0.109767</td>\n",
       "      <td>1.000000</td>\n",
       "      <td>0.000000</td>\n",
       "      <td>0.000000</td>\n",
       "      <td>0.418227</td>\n",
       "      <td>0.016965</td>\n",
       "      <td>0.058824</td>\n",
       "      <td>0.000000</td>\n",
       "      <td>0.0</td>\n",
       "      <td>0.000000</td>\n",
       "      <td>0.057719</td>\n",
       "      <td>0.000000</td>\n",
       "      <td>0.777059</td>\n",
       "      <td>0.766481</td>\n",
       "      <td>0.015344</td>\n",
       "      <td>0.035395</td>\n",
       "      <td>2.983194</td>\n",
       "      <td>0.777059</td>\n",
       "    </tr>\n",
       "    <tr>\n",
       "      <th>81</th>\n",
       "      <td>0.480</td>\n",
       "      <td>0.353340</td>\n",
       "      <td>1.000000</td>\n",
       "      <td>0.000000</td>\n",
       "      <td>0.388348</td>\n",
       "      <td>0.000000</td>\n",
       "      <td>0.027333</td>\n",
       "      <td>0.000000</td>\n",
       "      <td>0.000000</td>\n",
       "      <td>0.0</td>\n",
       "      <td>0.000000</td>\n",
       "      <td>0.057719</td>\n",
       "      <td>0.254272</td>\n",
       "      <td>0.777059</td>\n",
       "      <td>0.686798</td>\n",
       "      <td>0.112275</td>\n",
       "      <td>0.169962</td>\n",
       "      <td>2.577857</td>\n",
       "      <td>1.419679</td>\n",
       "    </tr>\n",
       "    <tr>\n",
       "      <th>54</th>\n",
       "      <td>0.560</td>\n",
       "      <td>0.109767</td>\n",
       "      <td>1.000000</td>\n",
       "      <td>0.000000</td>\n",
       "      <td>0.000000</td>\n",
       "      <td>0.000000</td>\n",
       "      <td>0.035815</td>\n",
       "      <td>0.181373</td>\n",
       "      <td>0.265306</td>\n",
       "      <td>0.0</td>\n",
       "      <td>0.343413</td>\n",
       "      <td>0.122446</td>\n",
       "      <td>0.315212</td>\n",
       "      <td>0.777059</td>\n",
       "      <td>0.660453</td>\n",
       "      <td>0.959955</td>\n",
       "      <td>0.844069</td>\n",
       "      <td>2.796079</td>\n",
       "      <td>1.092272</td>\n",
       "    </tr>\n",
       "    <tr>\n",
       "      <th>65</th>\n",
       "      <td>0.000</td>\n",
       "      <td>0.109767</td>\n",
       "      <td>1.000000</td>\n",
       "      <td>0.000000</td>\n",
       "      <td>0.000000</td>\n",
       "      <td>0.000000</td>\n",
       "      <td>0.000000</td>\n",
       "      <td>0.000000</td>\n",
       "      <td>0.000000</td>\n",
       "      <td>0.0</td>\n",
       "      <td>0.000000</td>\n",
       "      <td>0.399002</td>\n",
       "      <td>0.000000</td>\n",
       "      <td>0.777059</td>\n",
       "      <td>0.640572</td>\n",
       "      <td>0.000000</td>\n",
       "      <td>0.000000</td>\n",
       "      <td>2.149341</td>\n",
       "      <td>0.777059</td>\n",
       "    </tr>\n",
       "    <tr>\n",
       "      <th>96</th>\n",
       "      <td>0.640</td>\n",
       "      <td>0.109767</td>\n",
       "      <td>0.929285</td>\n",
       "      <td>0.000000</td>\n",
       "      <td>0.014350</td>\n",
       "      <td>0.219349</td>\n",
       "      <td>0.031103</td>\n",
       "      <td>0.000000</td>\n",
       "      <td>0.081633</td>\n",
       "      <td>0.0</td>\n",
       "      <td>0.000000</td>\n",
       "      <td>0.000542</td>\n",
       "      <td>0.170515</td>\n",
       "      <td>0.777059</td>\n",
       "      <td>0.854087</td>\n",
       "      <td>0.026572</td>\n",
       "      <td>0.032526</td>\n",
       "      <td>2.753030</td>\n",
       "      <td>0.961924</td>\n",
       "    </tr>\n",
       "    <tr>\n",
       "      <th>25</th>\n",
       "      <td>0.000</td>\n",
       "      <td>0.109767</td>\n",
       "      <td>1.000000</td>\n",
       "      <td>0.000000</td>\n",
       "      <td>0.214089</td>\n",
       "      <td>0.000000</td>\n",
       "      <td>0.000000</td>\n",
       "      <td>0.000000</td>\n",
       "      <td>0.000000</td>\n",
       "      <td>0.0</td>\n",
       "      <td>0.000000</td>\n",
       "      <td>0.057719</td>\n",
       "      <td>0.119070</td>\n",
       "      <td>0.410898</td>\n",
       "      <td>0.640572</td>\n",
       "      <td>0.000000</td>\n",
       "      <td>0.000000</td>\n",
       "      <td>1.808058</td>\n",
       "      <td>0.744057</td>\n",
       "    </tr>\n",
       "  </tbody>\n",
       "</table>\n",
       "</div>"
      ],
      "text/plain": [
       "     bonus  deferral_payments  deferred_income  director_fees  \\\n",
       "11   0.560           0.339664         0.828569       0.000000   \n",
       "100  0.000           0.109767         1.000000       1.000000   \n",
       "28   0.056           0.109767         1.000000       0.000000   \n",
       "3    0.640           0.109767         1.000000       0.000000   \n",
       "45   0.280           0.109767         0.313026       0.000000   \n",
       "82   0.000           0.109767         1.000000       0.000000   \n",
       "19   0.800           0.109767         1.000000       0.000000   \n",
       "55   0.000           0.109767         1.000000       0.000000   \n",
       "21   0.000           0.109767         1.000000       0.000000   \n",
       "89   0.280           0.109767         1.000000       0.000000   \n",
       "76   0.000           0.163944         1.000000       0.000000   \n",
       "51   0.680           0.109767         1.000000       0.000000   \n",
       "18   0.260           0.109767         1.000000       0.000000   \n",
       "73   0.000           0.109767         0.957142       0.993422   \n",
       "13   0.600           0.109767         1.000000       0.000000   \n",
       "34   0.480           0.109767         1.000000       0.000000   \n",
       "91   0.631           0.109767         1.000000       0.000000   \n",
       "81   0.480           0.353340         1.000000       0.000000   \n",
       "54   0.560           0.109767         1.000000       0.000000   \n",
       "65   0.000           0.109767         1.000000       0.000000   \n",
       "96   0.640           0.109767         0.929285       0.000000   \n",
       "25   0.000           0.109767         1.000000       0.000000   \n",
       "\n",
       "     exercised_stock_options  expenses  from_messages  \\\n",
       "11                  0.199620  0.261941       0.077286   \n",
       "100                 0.000000  0.817001       0.000000   \n",
       "28                  0.000000  0.221734       0.013195   \n",
       "3                   0.000000  0.930064       0.000000   \n",
       "45                  0.596984  0.618437       0.000000   \n",
       "82                  0.092162  0.000000       0.032045   \n",
       "19                  0.000000  0.000000       0.059378   \n",
       "55                  0.198296  0.093625       0.000000   \n",
       "21                  0.642912  0.148279       0.000000   \n",
       "89                  0.081113  0.187928       0.015080   \n",
       "76                  0.021531  0.000000       0.000000   \n",
       "51                  0.077669  0.381091       0.041470   \n",
       "18                  0.000000  0.175913       0.000000   \n",
       "73                  0.000000  0.011124       0.000000   \n",
       "13                  0.053287  0.000000       0.000000   \n",
       "34                  0.002121  0.327720       0.069746   \n",
       "91                  0.000000  0.418227       0.016965   \n",
       "81                  0.388348  0.000000       0.027333   \n",
       "54                  0.000000  0.000000       0.035815   \n",
       "65                  0.000000  0.000000       0.000000   \n",
       "96                  0.014350  0.219349       0.031103   \n",
       "25                  0.214089  0.000000       0.000000   \n",
       "\n",
       "     from_poi_to_this_person  from_this_person_to_poi  loan_advances  \\\n",
       "11                  0.171569                 0.979592            0.0   \n",
       "100                 0.000000                 0.000000            0.0   \n",
       "28                  0.049020                 0.061224            0.0   \n",
       "3                   0.000000                 0.000000            0.0   \n",
       "45                  0.000000                 0.000000            0.0   \n",
       "82                  0.171569                 0.102041            0.0   \n",
       "19                  0.328431                 0.285714            0.0   \n",
       "55                  0.000000                 0.000000            0.0   \n",
       "21                  0.000000                 0.000000            0.0   \n",
       "89                  0.004902                 0.163265            0.0   \n",
       "76                  0.000000                 0.000000            0.0   \n",
       "51                  0.049020                 0.551020            0.0   \n",
       "18                  0.000000                 0.000000            0.0   \n",
       "73                  0.000000                 0.000000            0.0   \n",
       "13                  0.000000                 0.000000            0.0   \n",
       "34                  0.563725                 0.081633            0.0   \n",
       "91                  0.058824                 0.000000            0.0   \n",
       "81                  0.000000                 0.000000            0.0   \n",
       "54                  0.181373                 0.265306            0.0   \n",
       "65                  0.000000                 0.000000            0.0   \n",
       "96                  0.000000                 0.081633            0.0   \n",
       "25                  0.000000                 0.000000            0.0   \n",
       "\n",
       "     long_term_incentive     other  restricted_stock  \\\n",
       "11              0.000000  0.002147          0.127925   \n",
       "100             0.000000  0.057719          0.000000   \n",
       "28              0.000000  0.000851          0.000000   \n",
       "3               0.434389  1.000000          0.444249   \n",
       "45              0.000000  0.014280          0.806563   \n",
       "82              0.000000  0.057719          0.163906   \n",
       "19              1.000000  0.003395          0.162598   \n",
       "55              0.000000  0.057719          0.392017   \n",
       "21              0.097907  0.000192          0.920497   \n",
       "89              0.401050  0.314504          0.431505   \n",
       "76              0.000000  0.057719          0.000000   \n",
       "51              0.270509  0.067010          0.117218   \n",
       "18              0.198213  0.000783          0.093781   \n",
       "73              0.000000  0.057719          0.000000   \n",
       "13              0.219695  0.902794          0.198934   \n",
       "34              0.241711  0.028155          0.063967   \n",
       "91              0.000000  0.057719          0.000000   \n",
       "81              0.000000  0.057719          0.254272   \n",
       "54              0.343413  0.122446          0.315212   \n",
       "65              0.000000  0.399002          0.000000   \n",
       "96              0.000000  0.000542          0.170515   \n",
       "25              0.000000  0.057719          0.119070   \n",
       "\n",
       "     restricted_stock_deferred    salary  shared_receipt_with_poi  \\\n",
       "11                    0.777059  0.632210                 0.470808   \n",
       "100                   0.777059  0.640572                 0.000000   \n",
       "28                    0.777059  0.536085                 0.042665   \n",
       "3                     0.777059  0.547342                 0.000000   \n",
       "45                    0.777059  0.365427                 0.000000   \n",
       "82                    0.777059  0.640572                 0.220434   \n",
       "19                    0.777059  0.715883                 1.000000   \n",
       "55                    0.777059  0.521014                 0.000000   \n",
       "21                    0.777059  0.106348                 0.000000   \n",
       "89                    0.777059  0.461614                 0.270584   \n",
       "76                    0.777059  0.640572                 0.000000   \n",
       "51                    0.777059  0.573389                 0.066617   \n",
       "18                    0.777059  0.413009                 0.000000   \n",
       "73                    0.777059  0.640572                 0.000000   \n",
       "13                    0.777059  0.712930                 0.000000   \n",
       "34                    0.777059  0.485354                 0.206587   \n",
       "91                    0.777059  0.766481                 0.015344   \n",
       "81                    0.777059  0.686798                 0.112275   \n",
       "54                    0.777059  0.660453                 0.959955   \n",
       "65                    0.777059  0.640572                 0.000000   \n",
       "96                    0.777059  0.854087                 0.026572   \n",
       "25                    0.410898  0.640572                 0.000000   \n",
       "\n",
       "     to_messages  total_payments  total_stock_value  \n",
       "11      0.423469        2.624531           1.104605  \n",
       "100     0.000000        3.625059           0.777059  \n",
       "28      0.056122        1.924437           0.777059  \n",
       "3       0.000000        4.661562           1.221308  \n",
       "45      0.000000        1.700937           2.180606  \n",
       "82      0.229273        1.808058           1.033127  \n",
       "19      0.899872        3.629044           0.939657  \n",
       "55      0.000000        1.782125           1.367373  \n",
       "21      0.000000        1.462493           2.340468  \n",
       "89      0.298469        2.754861           1.289677  \n",
       "76      0.000000        1.862236           0.798590  \n",
       "51      0.066645        3.081766           0.971946  \n",
       "18      0.000000        2.157685           0.870840  \n",
       "73      0.000000        2.769746           0.777059  \n",
       "13      0.000000        3.545187           1.029280  \n",
       "34      0.227679        2.672706           0.843147  \n",
       "91      0.035395        2.983194           0.777059  \n",
       "81      0.169962        2.577857           1.419679  \n",
       "54      0.844069        2.796079           1.092272  \n",
       "65      0.000000        2.149341           0.777059  \n",
       "96      0.032526        2.753030           0.961924  \n",
       "25      0.000000        1.808058           0.744057  "
      ]
     },
     "execution_count": 497,
     "metadata": {},
     "output_type": "execute_result"
    }
   ],
   "source": [
    "trainX, valX, trainY, valY = train_test_split(df_train, train_Y, test_size=0.3, random_state=42)\n",
    "valX\n",
    "\n"
   ]
  },
  {
   "cell_type": "code",
   "execution_count": 478,
   "metadata": {},
   "outputs": [],
   "source": [
    "#train_X = df_train\n",
    "test_X = df_test\n",
    "\n",
    "# 使用三種模型 : 邏輯斯迴歸 / 梯度提升機 / 隨機森林, 參數使用 Random Search 尋找\n",
    "lr = LogisticRegression(tol=0.001, penalty='l2', fit_intercept=True, C=1.0)\n",
    "\n",
    "gdbt = GradientBoostingClassifier(tol=100, subsample=0.75, n_estimators=250,\n",
    "                                  max_depth=6, learning_rate=0.03)\n",
    "\n",
    "dt = DecisionTreeClassifier(criterion = \"gini\", max_depth=None, min_samples_split=2, min_samples_leaf=1)\n",
    "\n",
    "\n",
    "rf = RandomForestClassifier(n_estimators=100, min_samples_split=2, min_samples_leaf=1, \n",
    "                            max_features='sqrt', max_depth=6, bootstrap=True)\n"
   ]
  },
  {
   "cell_type": "code",
   "execution_count": 510,
   "metadata": {},
   "outputs": [
    {
     "name": "stdout",
     "output_type": "stream",
     "text": [
      "Fitting 5 folds for each of 12 candidates, totalling 60 fits\n"
     ]
    },
    {
     "name": "stderr",
     "output_type": "stream",
     "text": [
      "[Parallel(n_jobs=-1)]: Using backend LokyBackend with 8 concurrent workers.\n"
     ]
    },
    {
     "name": "stdout",
     "output_type": "stream",
     "text": [
      "Best grid_result Accuracy: 0.944762 using {'max_depth': 10, 'n_estimators': 50}\n"
     ]
    },
    {
     "name": "stderr",
     "output_type": "stream",
     "text": [
      "[Parallel(n_jobs=-1)]: Done  60 out of  60 | elapsed:    1.8s finished\n"
     ]
    }
   ],
   "source": [
    "# 設定要訓練的超參數組合\n",
    "n_estimators = [50, 100, 150]\n",
    "#min_samples_split = [2, 4, 6, 8]\n",
    "#min_samples_leaf = [1, 2, 3, 4]\n",
    "#bootstrap = ['True', 'False']\n",
    "max_depth = [1, 3, 5, 10]\n",
    "\n",
    "param_grid = dict(n_estimators=n_estimators, \n",
    "                  max_depth=max_depth)\n",
    "\n",
    "## 建立搜尋物件，放入模型及參數組合字典 (n_jobs=-1 會使用全部 cpu 平行運算)\n",
    "grid_search = GridSearchCV(rf, param_grid, scoring=\"accuracy\", n_jobs=-1, verbose=1)\n",
    "#random_search = RandomizedSearchCV(rf, param_grid, scoring=\"accuracy\", n_jobs=-1, verbose=1)\n",
    "\n",
    "\n",
    "\n",
    "# 開始搜尋最佳參數\n",
    "grid_result = grid_search.fit(train_X, train_Y)\n",
    "#random_result = random_search.fit(train_X, train_Y)\n",
    "#print (grid_result)\n",
    "#print (random_result)\n",
    "print(\"Best grid_result Accuracy: %f using %s\" % (grid_result.best_score_, grid_result.best_params_))\n",
    "#print(\"Best random_result Accuracy: %f using %s\" % (random_result.best_score_, grid_result.best_params_))\n",
    "\n",
    "\n",
    "\n",
    "rf_bestparam = RandomForestClassifier(n_estimators = random_result.best_params_['n_estimators'],\n",
    "                                      min_samples_split = 2, \n",
    "                                      min_samples_leaf = 1,\n",
    "                                      max_features = 'sqrt',\n",
    "                                      max_depth = random_result.best_params_['max_depth'],\n",
    "                                      bootstrap = True)\n",
    "\n",
    "\n",
    "                                    "
   ]
  },
  {
   "cell_type": "code",
   "execution_count": 511,
   "metadata": {},
   "outputs": [
    {
     "name": "stdout",
     "output_type": "stream",
     "text": [
      "0.9333333333333332\n"
     ]
    },
    {
     "data": {
      "text/plain": [
       "array([0.61, 0.46, 0.35, 0.54, 0.39, 0.32, 0.61, 0.  , 0.29, 0.  , 0.3 ,\n",
       "       0.  , 0.01, 0.  , 0.32, 0.  , 0.03, 0.13, 0.39, 0.01, 0.7 , 0.52,\n",
       "       0.09, 0.  , 0.  , 0.03, 0.  , 0.  , 0.16, 0.48, 0.02, 0.03, 0.81])"
      ]
     },
     "execution_count": 511,
     "metadata": {},
     "output_type": "execute_result"
    }
   ],
   "source": [
    "# 隨機森林\n",
    "rf_bestparam.fit(train_X, train_Y)\n",
    "rf_pred = rf_bestparam.predict_proba(test_X)[:,1]\n",
    "sub = pd.DataFrame({'name': names, 'poi': rf_pred})\n",
    "#sub.to_csv('submit_rf.csv', index=False)\n",
    "\n",
    "print(cross_val_score(rf_bestparam,valX,valY,cv=10).mean())\n",
    "rf_pred"
   ]
  },
  {
   "cell_type": "code",
   "execution_count": 499,
   "metadata": {},
   "outputs": [
    {
     "data": {
      "text/plain": [
       "0.9333333333333332"
      ]
     },
     "execution_count": 499,
     "metadata": {},
     "output_type": "execute_result"
    }
   ],
   "source": [
    "# 邏輯迴歸預測檔 (結果有部分隨機, 請以 Kaggle 計算的得分為準, 以下模型同理)\n",
    "lr.fit(train_X, train_Y)\n",
    "lr_pred = lr.predict_proba(test_X)[:,1]\n",
    "sub = pd.DataFrame({'name': names, 'poi': lr_pred})\n",
    "#sub.to_csv('submit_lr.csv', index=False) \n",
    "cross_val_score(lr,valX,valY,cv=10).mean()\n"
   ]
  },
  {
   "cell_type": "code",
   "execution_count": 500,
   "metadata": {},
   "outputs": [
    {
     "data": {
      "text/plain": [
       "0.9333333333333332"
      ]
     },
     "execution_count": 500,
     "metadata": {},
     "output_type": "execute_result"
    }
   ],
   "source": [
    "# 梯度提升機預測檔 \n",
    "gdbt.fit(train_X, train_Y)\n",
    "gdbt_pred = gdbt.predict_proba(test_X)[:,1]\n",
    "sub = pd.DataFrame({'name': names, 'poi': gdbt_pred})\n",
    "#sub.to_csv('submit_gdbt.csv', index=False) \n",
    "cross_val_score(gdbt,valX,valY,cv=10).mean()\n"
   ]
  },
  {
   "cell_type": "code",
   "execution_count": 501,
   "metadata": {},
   "outputs": [
    {
     "data": {
      "text/plain": [
       "0.9035714285714285"
      ]
     },
     "execution_count": 501,
     "metadata": {},
     "output_type": "execute_result"
    }
   ],
   "source": [
    "#決策樹預測檔\n",
    "dt.fit(train_X, train_Y)\n",
    "dt_pred = dt.predict_proba(test_X)[:,1]\n",
    "sub = pd.DataFrame({'name': names, 'poi': dt_pred})\n",
    "#sub.to_csv('submit_dt.csv', index=False)\n",
    "cross_val_score(dt,train_X,train_Y,cv=10).mean()\n"
   ]
  },
  {
   "cell_type": "code",
   "execution_count": null,
   "metadata": {},
   "outputs": [],
   "source": [
    "#####################################################################"
   ]
  },
  {
   "cell_type": "code",
   "execution_count": 171,
   "metadata": {},
   "outputs": [
    {
     "name": "stdout",
     "output_type": "stream",
     "text": [
      "expenses                                   0.194668\n",
      "shared_receipt_with_poi                    0.118491\n",
      "from_this_person_to_poi                    0.082414\n",
      "bonus                                      0.081641\n",
      "other                                      0.080910\n",
      "director_fees+expenses                     0.078119\n",
      "from_poi_to_this_person                    0.059019\n",
      "total_payments                             0.049667\n",
      "from_messages                              0.036360\n",
      "total_stock_value                          0.034375\n",
      "restricted_stock                           0.031398\n",
      "salary                                     0.030933\n",
      "long_term_incentive                        0.026100\n",
      "to_messages                                0.020338\n",
      "exercised_stock_options                    0.020117\n",
      "deferred_loss                              0.017739\n",
      "deferral_payments                          0.016568\n",
      "deferred_income                            0.013772\n",
      "director_fees+restricted_stock_deferred    0.007370\n",
      "loan_advances                              0.000000\n",
      "restricted_stock_deferred                  0.000000\n",
      "director_fees                              0.000000\n",
      "dtype: float64\n"
     ]
    },
    {
     "ename": "ValueError",
     "evalue": "Number of features of the model must match the input. Model n_features is 18 and input n_features is 22 ",
     "output_type": "error",
     "traceback": [
      "\u001b[0;31m---------------------------------------------------------------------------\u001b[0m",
      "\u001b[0;31mValueError\u001b[0m                                Traceback (most recent call last)",
      "\u001b[0;32m<ipython-input-171-28812907b749>\u001b[0m in \u001b[0;36m<module>\u001b[0;34m\u001b[0m\n\u001b[1;32m     10\u001b[0m \u001b[0;34m\u001b[0m\u001b[0m\n\u001b[1;32m     11\u001b[0m \u001b[0;34m\u001b[0m\u001b[0m\n\u001b[0;32m---> 12\u001b[0;31m \u001b[0mrf_pred\u001b[0m \u001b[0;34m=\u001b[0m \u001b[0mrf\u001b[0m\u001b[0;34m.\u001b[0m\u001b[0mpredict_proba\u001b[0m\u001b[0;34m(\u001b[0m\u001b[0mtest_X\u001b[0m\u001b[0;34m)\u001b[0m\u001b[0;34m[\u001b[0m\u001b[0;34m:\u001b[0m\u001b[0;34m,\u001b[0m\u001b[0;36m1\u001b[0m\u001b[0;34m]\u001b[0m\u001b[0;34m\u001b[0m\u001b[0;34m\u001b[0m\u001b[0m\n\u001b[0m\u001b[1;32m     13\u001b[0m \u001b[0msub\u001b[0m \u001b[0;34m=\u001b[0m \u001b[0mpd\u001b[0m\u001b[0;34m.\u001b[0m\u001b[0mDataFrame\u001b[0m\u001b[0;34m(\u001b[0m\u001b[0;34m{\u001b[0m\u001b[0;34m'name'\u001b[0m\u001b[0;34m:\u001b[0m \u001b[0mnames\u001b[0m\u001b[0;34m,\u001b[0m \u001b[0;34m'poi'\u001b[0m\u001b[0;34m:\u001b[0m \u001b[0mrf_pred\u001b[0m\u001b[0;34m}\u001b[0m\u001b[0;34m)\u001b[0m\u001b[0;34m\u001b[0m\u001b[0;34m\u001b[0m\u001b[0m\n\u001b[1;32m     14\u001b[0m \u001b[0;31m#sub.to_csv('submit_rf.csv', index=False)\u001b[0m\u001b[0;34m\u001b[0m\u001b[0;34m\u001b[0m\u001b[0;34m\u001b[0m\u001b[0m\n",
      "\u001b[0;32m~/opt/anaconda3/envs/ML100Days/lib/python3.7/site-packages/sklearn/ensemble/_forest.py\u001b[0m in \u001b[0;36mpredict_proba\u001b[0;34m(self, X)\u001b[0m\n\u001b[1;32m    671\u001b[0m         \u001b[0mcheck_is_fitted\u001b[0m\u001b[0;34m(\u001b[0m\u001b[0mself\u001b[0m\u001b[0;34m)\u001b[0m\u001b[0;34m\u001b[0m\u001b[0;34m\u001b[0m\u001b[0m\n\u001b[1;32m    672\u001b[0m         \u001b[0;31m# Check data\u001b[0m\u001b[0;34m\u001b[0m\u001b[0;34m\u001b[0m\u001b[0;34m\u001b[0m\u001b[0m\n\u001b[0;32m--> 673\u001b[0;31m         \u001b[0mX\u001b[0m \u001b[0;34m=\u001b[0m \u001b[0mself\u001b[0m\u001b[0;34m.\u001b[0m\u001b[0m_validate_X_predict\u001b[0m\u001b[0;34m(\u001b[0m\u001b[0mX\u001b[0m\u001b[0;34m)\u001b[0m\u001b[0;34m\u001b[0m\u001b[0;34m\u001b[0m\u001b[0m\n\u001b[0m\u001b[1;32m    674\u001b[0m \u001b[0;34m\u001b[0m\u001b[0m\n\u001b[1;32m    675\u001b[0m         \u001b[0;31m# Assign chunk of trees to jobs\u001b[0m\u001b[0;34m\u001b[0m\u001b[0;34m\u001b[0m\u001b[0;34m\u001b[0m\u001b[0m\n",
      "\u001b[0;32m~/opt/anaconda3/envs/ML100Days/lib/python3.7/site-packages/sklearn/ensemble/_forest.py\u001b[0m in \u001b[0;36m_validate_X_predict\u001b[0;34m(self, X)\u001b[0m\n\u001b[1;32m    419\u001b[0m         \u001b[0mcheck_is_fitted\u001b[0m\u001b[0;34m(\u001b[0m\u001b[0mself\u001b[0m\u001b[0;34m)\u001b[0m\u001b[0;34m\u001b[0m\u001b[0;34m\u001b[0m\u001b[0m\n\u001b[1;32m    420\u001b[0m \u001b[0;34m\u001b[0m\u001b[0m\n\u001b[0;32m--> 421\u001b[0;31m         \u001b[0;32mreturn\u001b[0m \u001b[0mself\u001b[0m\u001b[0;34m.\u001b[0m\u001b[0mestimators_\u001b[0m\u001b[0;34m[\u001b[0m\u001b[0;36m0\u001b[0m\u001b[0;34m]\u001b[0m\u001b[0;34m.\u001b[0m\u001b[0m_validate_X_predict\u001b[0m\u001b[0;34m(\u001b[0m\u001b[0mX\u001b[0m\u001b[0;34m,\u001b[0m \u001b[0mcheck_input\u001b[0m\u001b[0;34m=\u001b[0m\u001b[0;32mTrue\u001b[0m\u001b[0;34m)\u001b[0m\u001b[0;34m\u001b[0m\u001b[0;34m\u001b[0m\u001b[0m\n\u001b[0m\u001b[1;32m    422\u001b[0m \u001b[0;34m\u001b[0m\u001b[0m\n\u001b[1;32m    423\u001b[0m     \u001b[0;34m@\u001b[0m\u001b[0mproperty\u001b[0m\u001b[0;34m\u001b[0m\u001b[0;34m\u001b[0m\u001b[0m\n",
      "\u001b[0;32m~/opt/anaconda3/envs/ML100Days/lib/python3.7/site-packages/sklearn/tree/_classes.py\u001b[0m in \u001b[0;36m_validate_X_predict\u001b[0;34m(self, X, check_input)\u001b[0m\n\u001b[1;32m    397\u001b[0m                              \u001b[0;34m\"match the input. Model n_features is %s and \"\u001b[0m\u001b[0;34m\u001b[0m\u001b[0;34m\u001b[0m\u001b[0m\n\u001b[1;32m    398\u001b[0m                              \u001b[0;34m\"input n_features is %s \"\u001b[0m\u001b[0;34m\u001b[0m\u001b[0;34m\u001b[0m\u001b[0m\n\u001b[0;32m--> 399\u001b[0;31m                              % (self.n_features_, n_features))\n\u001b[0m\u001b[1;32m    400\u001b[0m \u001b[0;34m\u001b[0m\u001b[0m\n\u001b[1;32m    401\u001b[0m         \u001b[0;32mreturn\u001b[0m \u001b[0mX\u001b[0m\u001b[0;34m\u001b[0m\u001b[0;34m\u001b[0m\u001b[0m\n",
      "\u001b[0;31mValueError\u001b[0m: Number of features of the model must match the input. Model n_features is 18 and input n_features is 22 "
     ]
    }
   ],
   "source": [
    "# 隨機森林預測檔\n",
    "rf.fit(train_X, train_Y)\n",
    "\n",
    "feats = pd.Series(data=rf.feature_importances_, index=df_train.columns)\n",
    "feats = feats.sort_values(ascending=False)\n",
    "print (feats)\n",
    "\n",
    "high_feature = list(feats[:18].index)\n",
    "train_X = rf.fit(df_train[high_feature], train_Y)\n",
    "\n",
    "\n",
    "rf_pred = rf.predict_proba(test_X)[:,1]\n",
    "sub = pd.DataFrame({'name': names, 'poi': rf_pred})\n",
    "#sub.to_csv('submit_rf.csv', index=False) \n",
    "cross_val_score(rf,train_X,train_Y,cv=10).mean()\n",
    "\n",
    "\n",
    "#clf.fit(x_train, y_train)\n",
    "#y_pred = clf.predict(x_test)\n"
   ]
  },
  {
   "cell_type": "code",
   "execution_count": 259,
   "metadata": {},
   "outputs": [
    {
     "ename": "XGBoostError",
     "evalue": "XGBoost Library (libxgboost.dylib) could not be loaded.\nLikely causes:\n  * OpenMP runtime is not installed (vcomp140.dll or libgomp-1.dll for Windows, libomp.dylib for Mac OSX, libgomp.so for Linux and other UNIX-like OSes). Mac OSX users: Run `brew install libomp` to install OpenMP runtime.\n  * You are running 32-bit Python on a 64-bit OS\nError message(s): ['dlopen(/Users/aliceliao/opt/anaconda3/envs/ML100Days/lib/python3.7/site-packages/xgboost/lib/libxgboost.dylib, 6): Library not loaded: /usr/local/opt/libomp/lib/libomp.dylib\\n  Referenced from: /Users/aliceliao/opt/anaconda3/envs/ML100Days/lib/python3.7/site-packages/xgboost/lib/libxgboost.dylib\\n  Reason: image not found']\n",
     "output_type": "error",
     "traceback": [
      "\u001b[0;31m---------------------------------------------------------------------------\u001b[0m",
      "\u001b[0;31mXGBoostError\u001b[0m                              Traceback (most recent call last)",
      "\u001b[0;32m<ipython-input-259-fd3444536e45>\u001b[0m in \u001b[0;36m<module>\u001b[0;34m\u001b[0m\n\u001b[0;32m----> 1\u001b[0;31m \u001b[0;32mfrom\u001b[0m \u001b[0mxgboost\u001b[0m \u001b[0;32mimport\u001b[0m \u001b[0mXGBClassifier\u001b[0m\u001b[0;34m\u001b[0m\u001b[0;34m\u001b[0m\u001b[0m\n\u001b[0m\u001b[1;32m      2\u001b[0m \u001b[0mxgb\u001b[0m \u001b[0;34m=\u001b[0m \u001b[0mXGBClassifier\u001b[0m\u001b[0;34m(\u001b[0m\u001b[0;34m)\u001b[0m\u001b[0;34m\u001b[0m\u001b[0;34m\u001b[0m\u001b[0m\n\u001b[1;32m      3\u001b[0m \u001b[0mxgb\u001b[0m\u001b[0;34m.\u001b[0m\u001b[0mfit\u001b[0m\u001b[0;34m(\u001b[0m\u001b[0mtrain_X\u001b[0m\u001b[0;34m,\u001b[0m \u001b[0mtrain_Y\u001b[0m\u001b[0;34m)\u001b[0m\u001b[0;34m\u001b[0m\u001b[0;34m\u001b[0m\u001b[0m\n\u001b[1;32m      4\u001b[0m \u001b[0mxgb\u001b[0m\u001b[0;34m.\u001b[0m\u001b[0mscore\u001b[0m\u001b[0;34m(\u001b[0m\u001b[0mtrain_X\u001b[0m\u001b[0;34m,\u001b[0m \u001b[0mtrain_Y\u001b[0m\u001b[0;34m)\u001b[0m\u001b[0;34m\u001b[0m\u001b[0;34m\u001b[0m\u001b[0m\n\u001b[1;32m      5\u001b[0m \u001b[0;34m\u001b[0m\u001b[0m\n",
      "\u001b[0;32m~/opt/anaconda3/envs/ML100Days/lib/python3.7/site-packages/xgboost/__init__.py\u001b[0m in \u001b[0;36m<module>\u001b[0;34m\u001b[0m\n\u001b[1;32m      7\u001b[0m \u001b[0;32mimport\u001b[0m \u001b[0mos\u001b[0m\u001b[0;34m\u001b[0m\u001b[0;34m\u001b[0m\u001b[0m\n\u001b[1;32m      8\u001b[0m \u001b[0;34m\u001b[0m\u001b[0m\n\u001b[0;32m----> 9\u001b[0;31m \u001b[0;32mfrom\u001b[0m \u001b[0;34m.\u001b[0m\u001b[0mcore\u001b[0m \u001b[0;32mimport\u001b[0m \u001b[0mDMatrix\u001b[0m\u001b[0;34m,\u001b[0m \u001b[0mDeviceQuantileDMatrix\u001b[0m\u001b[0;34m,\u001b[0m \u001b[0mBooster\u001b[0m\u001b[0;34m\u001b[0m\u001b[0;34m\u001b[0m\u001b[0m\n\u001b[0m\u001b[1;32m     10\u001b[0m \u001b[0;32mfrom\u001b[0m \u001b[0;34m.\u001b[0m\u001b[0mtraining\u001b[0m \u001b[0;32mimport\u001b[0m \u001b[0mtrain\u001b[0m\u001b[0;34m,\u001b[0m \u001b[0mcv\u001b[0m\u001b[0;34m\u001b[0m\u001b[0;34m\u001b[0m\u001b[0m\n\u001b[1;32m     11\u001b[0m \u001b[0;32mfrom\u001b[0m \u001b[0;34m.\u001b[0m \u001b[0;32mimport\u001b[0m \u001b[0mrabit\u001b[0m  \u001b[0;31m# noqa\u001b[0m\u001b[0;34m\u001b[0m\u001b[0;34m\u001b[0m\u001b[0m\n",
      "\u001b[0;32m~/opt/anaconda3/envs/ML100Days/lib/python3.7/site-packages/xgboost/core.py\u001b[0m in \u001b[0;36m<module>\u001b[0;34m\u001b[0m\n\u001b[1;32m    171\u001b[0m \u001b[0;34m\u001b[0m\u001b[0m\n\u001b[1;32m    172\u001b[0m \u001b[0;31m# load the XGBoost library globally\u001b[0m\u001b[0;34m\u001b[0m\u001b[0;34m\u001b[0m\u001b[0;34m\u001b[0m\u001b[0m\n\u001b[0;32m--> 173\u001b[0;31m \u001b[0m_LIB\u001b[0m \u001b[0;34m=\u001b[0m \u001b[0m_load_lib\u001b[0m\u001b[0;34m(\u001b[0m\u001b[0;34m)\u001b[0m\u001b[0;34m\u001b[0m\u001b[0;34m\u001b[0m\u001b[0m\n\u001b[0m\u001b[1;32m    174\u001b[0m \u001b[0;34m\u001b[0m\u001b[0m\n\u001b[1;32m    175\u001b[0m \u001b[0;34m\u001b[0m\u001b[0m\n",
      "\u001b[0;32m~/opt/anaconda3/envs/ML100Days/lib/python3.7/site-packages/xgboost/core.py\u001b[0m in \u001b[0;36m_load_lib\u001b[0;34m()\u001b[0m\n\u001b[1;32m    162\u001b[0m             \u001b[0;34m'`brew install libomp` to install OpenMP runtime.\\n'\u001b[0m \u001b[0;34m+\u001b[0m\u001b[0;34m\u001b[0m\u001b[0;34m\u001b[0m\u001b[0m\n\u001b[1;32m    163\u001b[0m             \u001b[0;34m'  * You are running 32-bit Python on a 64-bit OS\\n'\u001b[0m \u001b[0;34m+\u001b[0m\u001b[0;34m\u001b[0m\u001b[0;34m\u001b[0m\u001b[0m\n\u001b[0;32m--> 164\u001b[0;31m             'Error message(s): {}\\n'.format(os_error_list))\n\u001b[0m\u001b[1;32m    165\u001b[0m     \u001b[0mlib\u001b[0m\u001b[0;34m.\u001b[0m\u001b[0mXGBGetLastError\u001b[0m\u001b[0;34m.\u001b[0m\u001b[0mrestype\u001b[0m \u001b[0;34m=\u001b[0m \u001b[0mctypes\u001b[0m\u001b[0;34m.\u001b[0m\u001b[0mc_char_p\u001b[0m\u001b[0;34m\u001b[0m\u001b[0;34m\u001b[0m\u001b[0m\n\u001b[1;32m    166\u001b[0m     \u001b[0mlib\u001b[0m\u001b[0;34m.\u001b[0m\u001b[0mcallback\u001b[0m \u001b[0;34m=\u001b[0m \u001b[0m_get_log_callback_func\u001b[0m\u001b[0;34m(\u001b[0m\u001b[0;34m)\u001b[0m\u001b[0;34m\u001b[0m\u001b[0;34m\u001b[0m\u001b[0m\n",
      "\u001b[0;31mXGBoostError\u001b[0m: XGBoost Library (libxgboost.dylib) could not be loaded.\nLikely causes:\n  * OpenMP runtime is not installed (vcomp140.dll or libgomp-1.dll for Windows, libomp.dylib for Mac OSX, libgomp.so for Linux and other UNIX-like OSes). Mac OSX users: Run `brew install libomp` to install OpenMP runtime.\n  * You are running 32-bit Python on a 64-bit OS\nError message(s): ['dlopen(/Users/aliceliao/opt/anaconda3/envs/ML100Days/lib/python3.7/site-packages/xgboost/lib/libxgboost.dylib, 6): Library not loaded: /usr/local/opt/libomp/lib/libomp.dylib\\n  Referenced from: /Users/aliceliao/opt/anaconda3/envs/ML100Days/lib/python3.7/site-packages/xgboost/lib/libxgboost.dylib\\n  Reason: image not found']\n"
     ]
    }
   ],
   "source": [
    "from xgboost import XGBClassifier\n",
    "xgb = XGBClassifier()\n",
    "xgb.fit(train_X, train_Y)\n",
    "xgb.score(train_X, train_Y)\n"
   ]
  },
  {
   "cell_type": "code",
   "execution_count": 379,
   "metadata": {},
   "outputs": [
    {
     "name": "stdout",
     "output_type": "stream",
     "text": [
      "Lower noise (0.7182483686213841, 7.324017312998504e-49)\n",
      "Higher noise (0.05796429207933815, 0.31700993885325246)\n"
     ]
    }
   ],
   "source": [
    "import numpy as np\n",
    "from scipy.stats import pearsonr\n",
    "np.random.seed(0)\n",
    "size = 300\n",
    "x = np.random.normal(0, 1, size)\n",
    "print(\"Lower noise\", pearsonr(x, x + np.random.normal(0, 1, size)))\n",
    "print(\"Higher noise\", pearsonr(x, x + np.random.normal(0, 10, size)))"
   ]
  },
  {
   "cell_type": "code",
   "execution_count": 373,
   "metadata": {},
   "outputs": [
    {
     "data": {
      "image/png": "[encoded data removed]",
      "text/plain": [
       "<Figure size 432x288 with 2 Axes>"
      ]
     },
     "metadata": {
      "needs_background": "light"
     },
     "output_type": "display_data"
    }
   ],
   "source": [
    "# 計算df整體相關係數, 並繪製成熱圖\n",
    "import seaborn as sns\n",
    "import matplotlib.pyplot as plt\n",
    "corr = df_train.corr()\n",
    "sns.heatmap(corr)\n",
    "plt.show()\n"
   ]
  },
  {
   "cell_type": "code",
   "execution_count": 133,
   "metadata": {},
   "outputs": [
    {
     "data": {
      "image/png": "[encoded data removed]",
      "text/plain": [
       "<Figure size 432x288 with 1 Axes>"
      ]
     },
     "metadata": {
      "needs_background": "light"
     },
     "output_type": "display_data"
    },
    {
     "data": {
      "image/png": "[encoded data removed]",
      "text/plain": [
       "<Figure size 432x288 with 1 Axes>"
      ]
     },
     "metadata": {
      "needs_background": "light"
     },
     "output_type": "display_data"
    },
    {
     "data": {
      "image/png": "[encoded data removed]",
      "text/plain": [
       "<Figure size 432x288 with 1 Axes>"
      ]
     },
     "metadata": {
      "needs_background": "light"
     },
     "output_type": "display_data"
    },
    {
     "data": {
      "image/png": "[encoded data removed]",
      "text/plain": [
       "<Figure size 432x288 with 1 Axes>"
      ]
     },
     "metadata": {
      "needs_background": "light"
     },
     "output_type": "display_data"
    },
    {
     "data": {
      "image/png": "[encoded data removed]",
      "text/plain": [
       "<Figure size 432x288 with 1 Axes>"
      ]
     },
     "metadata": {
      "needs_background": "light"
     },
     "output_type": "display_data"
    },
    {
     "data": {
      "image/png": "[encoded data removed]",
      "text/plain": [
       "<Figure size 432x288 with 1 Axes>"
      ]
     },
     "metadata": {
      "needs_background": "light"
     },
     "output_type": "display_data"
    },
    {
     "data": {
      "image/png": "[encoded data removed]",
      "text/plain": [
       "<Figure size 432x288 with 1 Axes>"
      ]
     },
     "metadata": {
      "needs_background": "light"
     },
     "output_type": "display_data"
    },
    {
     "data": {
      "image/png": "[encoded data removed]",
      "text/plain": [
       "<Figure size 432x288 with 1 Axes>"
      ]
     },
     "metadata": {
      "needs_background": "light"
     },
     "output_type": "display_data"
    },
    {
     "data": {
      "image/png": "[encoded data removed]",
      "text/plain": [
       "<Figure size 432x288 with 1 Axes>"
      ]
     },
     "metadata": {
      "needs_background": "light"
     },
     "output_type": "display_data"
    },
    {
     "data": {
      "image/png": "[encoded data removed]",
      "text/plain": [
       "<Figure size 432x288 with 1 Axes>"
      ]
     },
     "metadata": {
      "needs_background": "light"
     },
     "output_type": "display_data"
    },
    {
     "data": {
      "image/png": "[encoded data removed]",
      "text/plain": [
       "<Figure size 432x288 with 1 Axes>"
      ]
     },
     "metadata": {
      "needs_background": "light"
     },
     "output_type": "display_data"
    },
    {
     "data": {
      "image/png": "[encoded data removed]",
      "text/plain": [
       "<Figure size 432x288 with 1 Axes>"
      ]
     },
     "metadata": {
      "needs_background": "light"
     },
     "output_type": "display_data"
    },
    {
     "data": {
      "image/png": "[encoded data removed]",
      "text/plain": [
       "<Figure size 432x288 with 1 Axes>"
      ]
     },
     "metadata": {
      "needs_background": "light"
     },
     "output_type": "display_data"
    },
    {
     "data": {
      "image/png": "[encoded data removed]",
      "text/plain": [
       "<Figure size 432x288 with 1 Axes>"
      ]
     },
     "metadata": {
      "needs_background": "light"
     },
     "output_type": "display_data"
    },
    {
     "data": {
      "image/png": "[encoded data removed]",
      "text/plain": [
       "<Figure size 432x288 with 1 Axes>"
      ]
     },
     "metadata": {
      "needs_background": "light"
     },
     "output_type": "display_data"
    },
    {
     "data": {
      "image/png": "[encoded data removed]",
      "text/plain": [
       "<Figure size 432x288 with 1 Axes>"
      ]
     },
     "metadata": {
      "needs_background": "light"
     },
     "output_type": "display_data"
    },
    {
     "data": {
      "image/png": "[encoded data removed]",
      "text/plain": [
       "<Figure size 432x288 with 1 Axes>"
      ]
     },
     "metadata": {
      "needs_background": "light"
     },
     "output_type": "display_data"
    },
    {
     "data": {
      "image/png": "[encoded data removed]",
      "text/plain": [
       "<Figure size 432x288 with 1 Axes>"
      ]
     },
     "metadata": {
      "needs_background": "light"
     },
     "output_type": "display_data"
    },
    {
     "data": {
      "image/png": "[encoded data removed]",
      "text/plain": [
       "<Figure size 432x288 with 1 Axes>"
      ]
     },
     "metadata": {
      "needs_background": "light"
     },
     "output_type": "display_data"
    }
   ],
   "source": [
    "import seaborn as sns\n",
    "import matplotlib.pyplot as plt\n",
    "%matplotlib inline\n",
    "for feature in num_features:\n",
    "    df_train[feature] = np.log1p(df_train[feature])\n",
    "    sns.boxplot(x=df_train[feature])\n",
    "    plt.show()\n",
    "    "
   ]
  },
  {
   "cell_type": "code",
   "execution_count": 389,
   "metadata": {},
   "outputs": [
    {
     "name": "stdout",
     "output_type": "stream",
     "text": [
      "count    72.000000\n",
      "mean      0.443118\n",
      "std       0.472716\n",
      "min       0.000000\n",
      "25%       0.000000\n",
      "50%       0.000000\n",
      "75%       0.947718\n",
      "max       1.000000\n",
      "Name: bonus, dtype: float64\n"
     ]
    },
    {
     "data": {
      "image/png": "[encoded data removed]",
      "text/plain": [
       "<Figure size 432x288 with 1 Axes>"
      ]
     },
     "metadata": {
      "needs_background": "light"
     },
     "output_type": "display_data"
    },
    {
     "name": "stdout",
     "output_type": "stream",
     "text": [
      "count    71.000000\n",
      "mean      0.171204\n",
      "std       0.350541\n",
      "min       0.000000\n",
      "25%       0.000000\n",
      "50%       0.000000\n",
      "75%       0.000000\n",
      "max       1.000000\n",
      "Name: deferral_payments, dtype: float64\n"
     ]
    },
    {
     "data": {
      "image/png": "[encoded data removed]",
      "text/plain": [
       "<Figure size 432x288 with 1 Axes>"
      ]
     },
     "metadata": {
      "needs_background": "light"
     },
     "output_type": "display_data"
    },
    {
     "name": "stdout",
     "output_type": "stream",
     "text": [
      "count    55.0\n",
      "mean      0.0\n",
      "std       0.0\n",
      "min       0.0\n",
      "25%       0.0\n",
      "50%       0.0\n",
      "75%       0.0\n",
      "max       0.0\n",
      "Name: deferred_income, dtype: float64\n"
     ]
    },
    {
     "data": {
      "image/png": "[encoded data removed]",
      "text/plain": [
       "<Figure size 432x288 with 1 Axes>"
      ]
     },
     "metadata": {
      "needs_background": "light"
     },
     "output_type": "display_data"
    },
    {
     "name": "stdout",
     "output_type": "stream",
     "text": [
      "count    72.000000\n",
      "mean      0.104478\n",
      "std       0.299652\n",
      "min       0.000000\n",
      "25%       0.000000\n",
      "50%       0.000000\n",
      "75%       0.000000\n",
      "max       1.000000\n",
      "Name: director_fees, dtype: float64\n"
     ]
    },
    {
     "data": {
      "image/png": "[encoded data removed]",
      "text/plain": [
       "<Figure size 432x288 with 1 Axes>"
      ]
     },
     "metadata": {
      "needs_background": "light"
     },
     "output_type": "display_data"
    },
    {
     "name": "stdout",
     "output_type": "stream",
     "text": [
      "count    72.000000\n",
      "mean      0.565427\n",
      "std       0.399117\n",
      "min       0.000000\n",
      "25%       0.000000\n",
      "50%       0.785443\n",
      "75%       0.852269\n",
      "max       1.000000\n",
      "Name: exercised_stock_options, dtype: float64\n"
     ]
    },
    {
     "data": {
      "image/png": "[encoded data removed]",
      "text/plain": [
       "<Figure size 432x288 with 1 Axes>"
      ]
     },
     "metadata": {
      "needs_background": "light"
     },
     "output_type": "display_data"
    },
    {
     "name": "stdout",
     "output_type": "stream",
     "text": [
      "count    72.000000\n",
      "mean      0.477848\n",
      "std       0.441283\n",
      "min       0.000000\n",
      "25%       0.000000\n",
      "50%       0.655670\n",
      "75%       0.914840\n",
      "max       1.000000\n",
      "Name: expenses, dtype: float64\n"
     ]
    },
    {
     "data": {
      "image/png": "[encoded data removed]",
      "text/plain": [
       "<Figure size 432x288 with 1 Axes>"
      ]
     },
     "metadata": {
      "needs_background": "light"
     },
     "output_type": "display_data"
    },
    {
     "name": "stdout",
     "output_type": "stream",
     "text": [
      "count    72.000000\n",
      "mean      0.283411\n",
      "std       0.288702\n",
      "min       0.000000\n",
      "25%       0.000000\n",
      "50%       0.368109\n",
      "75%       0.528435\n",
      "max       1.000000\n",
      "Name: from_messages, dtype: float64\n"
     ]
    },
    {
     "data": {
      "image/png": "[encoded data removed]",
      "text/plain": [
       "<Figure size 432x288 with 1 Axes>"
      ]
     },
     "metadata": {
      "needs_background": "light"
     },
     "output_type": "display_data"
    },
    {
     "name": "stdout",
     "output_type": "stream",
     "text": [
      "count    72.000000\n",
      "mean      0.252341\n",
      "std       0.326379\n",
      "min       0.000000\n",
      "25%       0.000000\n",
      "50%       0.000000\n",
      "75%       0.550236\n",
      "max       1.000000\n",
      "Name: from_poi_to_this_person, dtype: float64\n"
     ]
    },
    {
     "data": {
      "image/png": "[encoded data removed]",
      "text/plain": [
       "<Figure size 432x288 with 1 Axes>"
      ]
     },
     "metadata": {
      "needs_background": "light"
     },
     "output_type": "display_data"
    },
    {
     "name": "stdout",
     "output_type": "stream",
     "text": [
      "count    72.000000\n",
      "mean      0.202879\n",
      "std       0.307772\n",
      "min       0.000000\n",
      "25%       0.000000\n",
      "50%       0.000000\n",
      "75%       0.411408\n",
      "max       1.000000\n",
      "Name: from_this_person_to_poi, dtype: float64\n"
     ]
    },
    {
     "data": {
      "image/png": "[encoded data removed]",
      "text/plain": [
       "<Figure size 432x288 with 1 Axes>"
      ]
     },
     "metadata": {
      "needs_background": "light"
     },
     "output_type": "display_data"
    },
    {
     "name": "stdout",
     "output_type": "stream",
     "text": [
      "count    72.0\n",
      "mean      0.0\n",
      "std       0.0\n",
      "min       0.0\n",
      "25%       0.0\n",
      "50%       0.0\n",
      "75%       0.0\n",
      "max       0.0\n",
      "Name: loan_advances, dtype: float64\n"
     ]
    },
    {
     "data": {
      "image/png": "[encoded data removed]",
      "text/plain": [
       "<Figure size 432x288 with 1 Axes>"
      ]
     },
     "metadata": {
      "needs_background": "light"
     },
     "output_type": "display_data"
    },
    {
     "name": "stdout",
     "output_type": "stream",
     "text": [
      "count    72.000000\n",
      "mean      0.359513\n",
      "std       0.442062\n",
      "min       0.000000\n",
      "25%       0.000000\n",
      "50%       0.000000\n",
      "75%       0.881810\n",
      "max       1.000000\n",
      "Name: long_term_incentive, dtype: float64\n"
     ]
    },
    {
     "data": {
      "image/png": "[encoded data removed]",
      "text/plain": [
       "<Figure size 432x288 with 1 Axes>"
      ]
     },
     "metadata": {
      "needs_background": "light"
     },
     "output_type": "display_data"
    },
    {
     "name": "stdout",
     "output_type": "stream",
     "text": [
      "count    72.000000\n",
      "mean      0.712893\n",
      "std       0.191969\n",
      "min       0.000000\n",
      "25%       0.634890\n",
      "50%       0.773998\n",
      "75%       0.773998\n",
      "max       1.000000\n",
      "Name: other, dtype: float64\n"
     ]
    },
    {
     "data": {
      "image/png": "[encoded data removed]",
      "text/plain": [
       "<Figure size 432x288 with 1 Axes>"
      ]
     },
     "metadata": {
      "needs_background": "light"
     },
     "output_type": "display_data"
    },
    {
     "name": "stdout",
     "output_type": "stream",
     "text": [
      "count    72.000000\n",
      "mean      0.622933\n",
      "std       0.405504\n",
      "min       0.000000\n",
      "25%       0.000000\n",
      "50%       0.843095\n",
      "75%       0.896435\n",
      "max       1.000000\n",
      "Name: restricted_stock, dtype: float64\n"
     ]
    },
    {
     "data": {
      "image/png": "[encoded data removed]",
      "text/plain": [
       "<Figure size 432x288 with 1 Axes>"
      ]
     },
     "metadata": {
      "needs_background": "light"
     },
     "output_type": "display_data"
    },
    {
     "name": "stdout",
     "output_type": "stream",
     "text": [
      "count    68.000000\n",
      "mean      0.014706\n",
      "std       0.121268\n",
      "min       0.000000\n",
      "25%       0.000000\n",
      "50%       0.000000\n",
      "75%       0.000000\n",
      "max       1.000000\n",
      "Name: restricted_stock_deferred, dtype: float64\n"
     ]
    },
    {
     "data": {
      "image/png": "[encoded data removed]",
      "text/plain": [
       "<Figure size 432x288 with 1 Axes>"
      ]
     },
     "metadata": {
      "needs_background": "light"
     },
     "output_type": "display_data"
    },
    {
     "name": "stdout",
     "output_type": "stream",
     "text": [
      "count    72.000000\n",
      "mean      0.750221\n",
      "std       0.164950\n",
      "min       0.000000\n",
      "25%       0.763542\n",
      "50%       0.796916\n",
      "75%       0.796916\n",
      "max       1.000000\n",
      "Name: salary, dtype: float64\n"
     ]
    },
    {
     "data": {
      "image/png": "[encoded data removed]",
      "text/plain": [
       "<Figure size 432x288 with 1 Axes>"
      ]
     },
     "metadata": {
      "needs_background": "light"
     },
     "output_type": "display_data"
    },
    {
     "name": "stdout",
     "output_type": "stream",
     "text": [
      "count    72.000000\n",
      "mean      0.379127\n",
      "std       0.391690\n",
      "min       0.000000\n",
      "25%       0.000000\n",
      "50%       0.314464\n",
      "75%       0.782649\n",
      "max       1.000000\n",
      "Name: shared_receipt_with_poi, dtype: float64\n"
     ]
    },
    {
     "data": {
      "image/png": "[encoded data removed]",
      "text/plain": [
       "<Figure size 432x288 with 1 Axes>"
      ]
     },
     "metadata": {
      "needs_background": "light"
     },
     "output_type": "display_data"
    },
    {
     "name": "stdout",
     "output_type": "stream",
     "text": [
      "count    72.000000\n",
      "mean      0.432906\n",
      "std       0.421841\n",
      "min       0.000000\n",
      "25%       0.000000\n",
      "50%       0.580872\n",
      "75%       0.828861\n",
      "max       1.000000\n",
      "Name: to_messages, dtype: float64\n"
     ]
    },
    {
     "data": {
      "image/png": "[encoded data removed]",
      "text/plain": [
       "<Figure size 432x288 with 1 Axes>"
      ]
     },
     "metadata": {
      "needs_background": "light"
     },
     "output_type": "display_data"
    },
    {
     "name": "stdout",
     "output_type": "stream",
     "text": [
      "count    54.000000\n",
      "mean      2.891261\n",
      "std       1.132020\n",
      "min       1.570914\n",
      "25%       1.570914\n",
      "50%       2.696944\n",
      "75%       3.771049\n",
      "max       5.065378\n",
      "Name: total_payments, dtype: float64\n"
     ]
    },
    {
     "data": {
      "image/png": "[encoded data removed]",
      "text/plain": [
       "<Figure size 432x288 with 1 Axes>"
      ]
     },
     "metadata": {
      "needs_background": "light"
     },
     "output_type": "display_data"
    },
    {
     "name": "stdout",
     "output_type": "stream",
     "text": [
      "count    68.000000\n",
      "mean      1.187374\n",
      "std       0.644214\n",
      "min       0.000000\n",
      "25%       0.805229\n",
      "50%       1.466910\n",
      "75%       1.730522\n",
      "max       1.966580\n",
      "Name: total_stock_value, dtype: float64\n"
     ]
    },
    {
     "data": {
      "image/png": "[encoded data removed]",
      "text/plain": [
       "<Figure size 432x288 with 1 Axes>"
      ]
     },
     "metadata": {
      "needs_background": "light"
     },
     "output_type": "display_data"
    },
    {
     "name": "stdout",
     "output_type": "stream",
     "text": [
      "count    54.000000\n",
      "mean      2.891261\n",
      "std       1.132020\n",
      "min       1.570914\n",
      "25%       1.570914\n",
      "50%       2.696944\n",
      "75%       3.771049\n",
      "max       5.065378\n",
      "Name: total_payments, dtype: float64\n"
     ]
    },
    {
     "data": {
      "image/png": "[encoded data removed]",
      "text/plain": [
       "<Figure size 432x288 with 1 Axes>"
      ]
     },
     "metadata": {
      "needs_background": "light"
     },
     "output_type": "display_data"
    },
    {
     "name": "stdout",
     "output_type": "stream",
     "text": [
      "count    68.000000\n",
      "mean      1.187374\n",
      "std       0.644214\n",
      "min       0.000000\n",
      "25%       0.805229\n",
      "50%       1.466910\n",
      "75%       1.730522\n",
      "max       1.966580\n",
      "Name: total_stock_value, dtype: float64\n"
     ]
    },
    {
     "data": {
      "image/png": "[encoded data removed]",
      "text/plain": [
       "<Figure size 432x288 with 1 Axes>"
      ]
     },
     "metadata": {
      "needs_background": "light"
     },
     "output_type": "display_data"
    }
   ],
   "source": [
    "import matplotlib.pyplot as plt\n",
    "\n",
    "for col in num_features:\n",
    "    #plt.hist(df[col], 30)\n",
    "    print (df_train[col].describe())\n",
    "    df_train[col].hist(bins=30)\n",
    "    plt.title(col)\n",
    "    plt.show()\n",
    "\n"
   ]
  },
  {
   "cell_type": "code",
   "execution_count": 176,
   "metadata": {},
   "outputs": [
    {
     "data": {
      "text/plain": [
       "'\\n#四分位距移除outliner\\nfor feature in num_features:\\n    print (feature + \":\")\\n    feature_data = list(df_train[feature])\\n    #print (feature_data)\\n    q25, q75 = percentile(feature_data, 25), percentile(feature_data, 75)\\n    iqr = q75 - q25\\n    #print(\\'Percentiles: 25th=%.3f, 75th=%.3f, IQR=%.3f\\' % (q25, q75, iqr))\\n    \\n    # calculate the outlier cutoff\\n    cut_off = iqr * 1.5\\n    lower, upper = q25 - cut_off, q75 + cut_off\\n    \\n    # identify outliers\\n    outliers = [x for x in feature_data if x < lower or x > upper]\\n    #print(\\'Identified outliers: %d\\' % len(outliers))\\n    \\n    # remove outliers\\n    outliers_removed = [x for x in feature_data if x >= lower and x <= upper]\\n    #print(\\'Non-outlier observations: %d\\' % len(outliers_removed))\\n    \\n    #用中位數取代\\n    #mid = np.median(df_train[~df_train[feature].isnull()][feature])\\n    mid = np.median(df_train[feature])\\n    for outlier in outliers:\\n        df_train[feature].replace({outlier: mid}, inplace = True)\\n        \\n    #keep_indexs = (df_train[feature]>= lower) & (df_train[feature]<= upper)\\n    #df_train = df_train[keep_indexs]\\n    #train_Y = train_Y[keep_indexs]\\nprint (df_train.shape)\\n\\n'"
      ]
     },
     "execution_count": 176,
     "metadata": {},
     "output_type": "execute_result"
    }
   ],
   "source": [
    "'''\n",
    "#四分位距移除outliner\n",
    "for feature in num_features:\n",
    "    print (feature + \":\")\n",
    "    feature_data = list(df_train[feature])\n",
    "    #print (feature_data)\n",
    "    q25, q75 = percentile(feature_data, 25), percentile(feature_data, 75)\n",
    "    iqr = q75 - q25\n",
    "    #print('Percentiles: 25th=%.3f, 75th=%.3f, IQR=%.3f' % (q25, q75, iqr))\n",
    "    \n",
    "    # calculate the outlier cutoff\n",
    "    cut_off = iqr * 1.5\n",
    "    lower, upper = q25 - cut_off, q75 + cut_off\n",
    "    \n",
    "    # identify outliers\n",
    "    outliers = [x for x in feature_data if x < lower or x > upper]\n",
    "    #print('Identified outliers: %d' % len(outliers))\n",
    "    \n",
    "    # remove outliers\n",
    "    outliers_removed = [x for x in feature_data if x >= lower and x <= upper]\n",
    "    #print('Non-outlier observations: %d' % len(outliers_removed))\n",
    "    \n",
    "    #用中位數取代\n",
    "    #mid = np.median(df_train[~df_train[feature].isnull()][feature])\n",
    "    mid = np.median(df_train[feature])\n",
    "    for outlier in outliers:\n",
    "        df_train[feature].replace({outlier: mid}, inplace = True)\n",
    "        \n",
    "    #keep_indexs = (df_train[feature]>= lower) & (df_train[feature]<= upper)\n",
    "    #df_train = df_train[keep_indexs]\n",
    "    #train_Y = train_Y[keep_indexs]\n",
    "print (df_train.shape)\n",
    "\n",
    "'''"
   ]
  }
 ],
 "metadata": {
  "kernelspec": {
   "display_name": "Python 3",
   "language": "python",
   "name": "python3"
  },
  "language_info": {
   "codemirror_mode": {
    "name": "ipython",
    "version": 3
   },
   "file_extension": ".py",
   "mimetype": "text/x-python",
   "name": "python",
   "nbconvert_exporter": "python",
   "pygments_lexer": "ipython3",
   "version": "3.7.7"
  }
 },
 "nbformat": 4,
 "nbformat_minor": 4
}
